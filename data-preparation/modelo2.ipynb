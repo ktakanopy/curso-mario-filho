{
 "cells": [
  {
   "cell_type": "code",
   "execution_count": 336,
   "metadata": {},
   "outputs": [
    {
     "name": "stdout",
     "output_type": "stream",
     "text": [
      "Populating the interactive namespace from numpy and matplotlib\n"
     ]
    },
    {
     "name": "stderr",
     "output_type": "stream",
     "text": [
      "/home/kevintakano/miniconda3/lib/python3.8/site-packages/IPython/core/magics/pylab.py:159: UserWarning: pylab import has clobbered these variables: ['vstack', 'hstack']\n",
      "`%matplotlib` prevents importing * from pylab and numpy\n",
      "  warn(\"pylab import has clobbered these variables: %s\"  % clobbered +\n"
     ]
    }
   ],
   "source": [
    "import pandas as pd\n",
    "import numpy as np\n",
    "import re\n",
    "import time\n",
    "\n",
    "import bs4 as bs4\n",
    "import json\n",
    "\n",
    "import glob\n",
    "import tqdm\n",
    "\n",
    "pd.set_option(\"max.columns\", 131)\n",
    "\n",
    "#https://strftime.org/\n",
    "%matplotlib inline\n",
    "%pylab inline"
   ]
  },
  {
   "cell_type": "code",
   "execution_count": 337,
   "metadata": {},
   "outputs": [
    {
     "data": {
      "text/plain": [
       "(307, 5)"
      ]
     },
     "execution_count": 337,
     "metadata": {},
     "output_type": "execute_result"
    }
   ],
   "source": [
    "df = pd.read_csv(\"raw_data.csv\")\n",
    "df = df[df['y'].notnull()].iloc[:,1:]\n",
    "# df = df[df['y'].isin(['0','1'])]\n",
    "df.shape"
   ]
  },
  {
   "cell_type": "code",
   "execution_count": 338,
   "metadata": {},
   "outputs": [
    {
     "data": {
      "text/html": [
       "<div>\n",
       "<style scoped>\n",
       "    .dataframe tbody tr th:only-of-type {\n",
       "        vertical-align: middle;\n",
       "    }\n",
       "\n",
       "    .dataframe tbody tr th {\n",
       "        vertical-align: top;\n",
       "    }\n",
       "\n",
       "    .dataframe thead th {\n",
       "        text-align: right;\n",
       "    }\n",
       "</style>\n",
       "<table border=\"1\" class=\"dataframe\">\n",
       "  <thead>\n",
       "    <tr style=\"text-align: right;\">\n",
       "      <th></th>\n",
       "      <th>title</th>\n",
       "      <th>upload_date</th>\n",
       "      <th>view_count</th>\n",
       "      <th>tempo_desde_pub</th>\n",
       "      <th>y</th>\n",
       "    </tr>\n",
       "  </thead>\n",
       "  <tbody>\n",
       "    <tr>\n",
       "      <th>0</th>\n",
       "      <td>How to Breakdance : CC's Breakdancing Footwork</td>\n",
       "      <td>2008-10-25</td>\n",
       "      <td>735081</td>\n",
       "      <td>4721.0</td>\n",
       "      <td>1.0</td>\n",
       "    </tr>\n",
       "    <tr>\n",
       "      <th>1</th>\n",
       "      <td>Breakdance The Movie AKA Breakin - First Battl...</td>\n",
       "      <td>2009-06-14</td>\n",
       "      <td>658147</td>\n",
       "      <td>4489.0</td>\n",
       "      <td>0.0</td>\n",
       "    </tr>\n",
       "    <tr>\n",
       "      <th>2</th>\n",
       "      <td>Jakub Józef Orliński - Breakdancing &amp; Opera | ...</td>\n",
       "      <td>2019-09-16</td>\n",
       "      <td>102757</td>\n",
       "      <td>743.0</td>\n",
       "      <td>0.0</td>\n",
       "    </tr>\n",
       "    <tr>\n",
       "      <th>3</th>\n",
       "      <td>free fire break dance video😜😆😆</td>\n",
       "      <td>2021-10-02</td>\n",
       "      <td>6</td>\n",
       "      <td>-4.0</td>\n",
       "      <td>0.0</td>\n",
       "    </tr>\n",
       "    <tr>\n",
       "      <th>4</th>\n",
       "      <td>¡Pase de Oro! El break dance extremo conquista...</td>\n",
       "      <td>2017-01-22</td>\n",
       "      <td>3134585</td>\n",
       "      <td>1710.0</td>\n",
       "      <td>0.0</td>\n",
       "    </tr>\n",
       "  </tbody>\n",
       "</table>\n",
       "</div>"
      ],
      "text/plain": [
       "                                               title upload_date  view_count  \\\n",
       "0     How to Breakdance : CC's Breakdancing Footwork  2008-10-25      735081   \n",
       "1  Breakdance The Movie AKA Breakin - First Battl...  2009-06-14      658147   \n",
       "2  Jakub Józef Orliński - Breakdancing & Opera | ...  2019-09-16      102757   \n",
       "3                     free fire break dance video😜😆😆  2021-10-02           6   \n",
       "4  ¡Pase de Oro! El break dance extremo conquista...  2017-01-22     3134585   \n",
       "\n",
       "   tempo_desde_pub    y  \n",
       "0           4721.0  1.0  \n",
       "1           4489.0  0.0  \n",
       "2            743.0  0.0  \n",
       "3             -4.0  0.0  \n",
       "4           1710.0  0.0  "
      ]
     },
     "execution_count": 338,
     "metadata": {},
     "output_type": "execute_result"
    }
   ],
   "source": [
    "df.head()"
   ]
  },
  {
   "cell_type": "code",
   "execution_count": 339,
   "metadata": {},
   "outputs": [],
   "source": [
    "from sklearn.linear_model import LogisticRegression\n",
    "from sklearn.ensemble import RandomForestClassifier"
   ]
  },
  {
   "cell_type": "code",
   "execution_count": 340,
   "metadata": {},
   "outputs": [],
   "source": [
    "df_limpo = pd.DataFrame(index=df.index)\n",
    "df_limpo['title'] = df['title']"
   ]
  },
  {
   "cell_type": "markdown",
   "metadata": {},
   "source": [
    "## 1. Limpeza da data"
   ]
  },
  {
   "cell_type": "code",
   "execution_count": 341,
   "metadata": {},
   "outputs": [],
   "source": [
    "\n",
    "df_limpo['date'] = pd.to_datetime(df['upload_date'])"
   ]
  },
  {
   "cell_type": "markdown",
   "metadata": {},
   "source": [
    "## 2. Limpeza de Views"
   ]
  },
  {
   "cell_type": "code",
   "execution_count": 342,
   "metadata": {},
   "outputs": [],
   "source": [
    "df_limpo['views'] = df['view_count']"
   ]
  },
  {
   "cell_type": "markdown",
   "metadata": {},
   "source": [
    "## 3. Features"
   ]
  },
  {
   "cell_type": "code",
   "execution_count": 343,
   "metadata": {},
   "outputs": [],
   "source": [
    "features = pd.DataFrame(index=df_limpo.index)\n",
    "y = df['y'].astype(int).copy()"
   ]
  },
  {
   "cell_type": "code",
   "execution_count": 344,
   "metadata": {},
   "outputs": [],
   "source": [
    "features['tempo_desde_pub'] = (pd.to_datetime(\"2019-12-03\") - df_limpo['date']) / np.timedelta64(1, 'D')\n",
    "features['views'] = df_limpo['views']\n",
    "features['views_por_dia'] = features['views'] / features['tempo_desde_pub']\n",
    "features = features.drop(['tempo_desde_pub'], axis=1)"
   ]
  },
  {
   "cell_type": "code",
   "execution_count": 345,
   "metadata": {},
   "outputs": [
    {
     "data": {
      "text/html": [
       "<div>\n",
       "<style scoped>\n",
       "    .dataframe tbody tr th:only-of-type {\n",
       "        vertical-align: middle;\n",
       "    }\n",
       "\n",
       "    .dataframe tbody tr th {\n",
       "        vertical-align: top;\n",
       "    }\n",
       "\n",
       "    .dataframe thead th {\n",
       "        text-align: right;\n",
       "    }\n",
       "</style>\n",
       "<table border=\"1\" class=\"dataframe\">\n",
       "  <thead>\n",
       "    <tr style=\"text-align: right;\">\n",
       "      <th></th>\n",
       "      <th>views</th>\n",
       "      <th>views_por_dia</th>\n",
       "    </tr>\n",
       "  </thead>\n",
       "  <tbody>\n",
       "    <tr>\n",
       "      <th>0</th>\n",
       "      <td>735081</td>\n",
       "      <td>181.232988</td>\n",
       "    </tr>\n",
       "    <tr>\n",
       "      <th>1</th>\n",
       "      <td>658147</td>\n",
       "      <td>172.109571</td>\n",
       "    </tr>\n",
       "    <tr>\n",
       "      <th>2</th>\n",
       "      <td>102757</td>\n",
       "      <td>1317.397436</td>\n",
       "    </tr>\n",
       "    <tr>\n",
       "      <th>3</th>\n",
       "      <td>6</td>\n",
       "      <td>-0.008969</td>\n",
       "    </tr>\n",
       "    <tr>\n",
       "      <th>4</th>\n",
       "      <td>3134585</td>\n",
       "      <td>2999.602871</td>\n",
       "    </tr>\n",
       "  </tbody>\n",
       "</table>\n",
       "</div>"
      ],
      "text/plain": [
       "     views  views_por_dia\n",
       "0   735081     181.232988\n",
       "1   658147     172.109571\n",
       "2   102757    1317.397436\n",
       "3        6      -0.008969\n",
       "4  3134585    2999.602871"
      ]
     },
     "execution_count": 345,
     "metadata": {},
     "output_type": "execute_result"
    }
   ],
   "source": [
    "features.head()"
   ]
  },
  {
   "cell_type": "code",
   "execution_count": 346,
   "metadata": {},
   "outputs": [
    {
     "data": {
      "text/plain": [
       "<AxesSubplot:>"
      ]
     },
     "execution_count": 346,
     "metadata": {},
     "output_type": "execute_result"
    },
    {
     "data": {
      "image/png": "[encoded data removed]",
      "text/plain": [
       "<Figure size 1440x720 with 1 Axes>"
      ]
     },
     "metadata": {
      "needs_background": "light"
     },
     "output_type": "display_data"
    }
   ],
   "source": [
    "df_limpo.date.value_counts().plot(figsize=(20,10))"
   ]
  },
  {
   "cell_type": "code",
   "execution_count": 347,
   "metadata": {},
   "outputs": [
    {
     "data": {
      "text/plain": [
       "((248, 2), (59, 2), (248,), (59,))"
      ]
     },
     "execution_count": 347,
     "metadata": {},
     "output_type": "execute_result"
    }
   ],
   "source": [
    "base = \"2021-09-27\"\n",
    "\n",
    "mask_train = df_limpo['date'] < base\n",
    "mask_val = df_limpo['date'] >= base\n",
    "\n",
    "Xtrain, Xval = features[mask_train], features[mask_val]\n",
    "ytrain, yval = y[mask_train], y[mask_val]\n",
    "Xtrain.shape, Xval.shape, ytrain.shape, yval.shape"
   ]
  },
  {
   "cell_type": "code",
   "execution_count": 348,
   "metadata": {},
   "outputs": [
    {
     "data": {
      "text/plain": [
       "0         How to Breakdance : CC's Breakdancing Footwork\n",
       "1      Breakdance The Movie AKA Breakin - First Battl...\n",
       "2      Jakub Józef Orliński - Breakdancing & Opera | ...\n",
       "3                         free fire break dance video😜😆😆\n",
       "4      ¡Pase de Oro! El break dance extremo conquista...\n",
       "                             ...                        \n",
       "302    Breakdance Top 14 Suicide Moves 2019  || Best ...\n",
       "303    Chris Brown -- The INSANE Breakdance Battle | TMZ\n",
       "304                       Lazy legs Disabled breakdancer\n",
       "305    ITZY “LOCO” Dance Tutorial | Chorus + Dance Br...\n",
       "306                      JBL Unbreakable 2021 livestream\n",
       "Name: title, Length: 307, dtype: object"
      ]
     },
     "execution_count": 348,
     "metadata": {},
     "output_type": "execute_result"
    }
   ],
   "source": [
    "df_limpo['title']"
   ]
  },
  {
   "cell_type": "code",
   "execution_count": 349,
   "metadata": {},
   "outputs": [
    {
     "data": {
      "text/plain": [
       "0         How to Breakdance : CC's Breakdancing Footwork\n",
       "1      Breakdance The Movie AKA Breakin - First Battl...\n",
       "2      Jakub Józef Orliński - Breakdancing & Opera | ...\n",
       "4      ¡Pase de Oro! El break dance extremo conquista...\n",
       "6      SymphoBreaks (Awesome Energy) - Freestyle Megamix\n",
       "                             ...                        \n",
       "302    Breakdance Top 14 Suicide Moves 2019  || Best ...\n",
       "303    Chris Brown -- The INSANE Breakdance Battle | TMZ\n",
       "304                       Lazy legs Disabled breakdancer\n",
       "305    ITZY “LOCO” Dance Tutorial | Chorus + Dance Br...\n",
       "306                      JBL Unbreakable 2021 livestream\n",
       "Name: title, Length: 248, dtype: object"
      ]
     },
     "execution_count": 349,
     "metadata": {},
     "output_type": "execute_result"
    }
   ],
   "source": [
    "title_train"
   ]
  },
  {
   "cell_type": "code",
   "execution_count": 350,
   "metadata": {},
   "outputs": [],
   "source": [
    "from sklearn.feature_extraction.text import TfidfVectorizer\n",
    "\n",
    "title_train = df_limpo[mask_train]['title']\n",
    "title_val = df_limpo[mask_val]['title']\n",
    "\n",
    "title_vec = TfidfVectorizer(min_df=2)\n",
    "title_bow_train = title_vec.fit_transform(title_train)\n",
    "title_bow_val = title_vec.transform(title_val)\n"
   ]
  },
  {
   "cell_type": "code",
   "execution_count": 351,
   "metadata": {},
   "outputs": [
    {
     "data": {
      "text/plain": [
       "(248, 227)"
      ]
     },
     "execution_count": 351,
     "metadata": {},
     "output_type": "execute_result"
    }
   ],
   "source": [
    "title_bow_train.shape"
   ]
  },
  {
   "cell_type": "code",
   "execution_count": 352,
   "metadata": {},
   "outputs": [
    {
     "data": {
      "text/plain": [
       "0.9709799109171894"
      ]
     },
     "execution_count": 352,
     "metadata": {},
     "output_type": "execute_result"
    }
   ],
   "source": [
    "1 - 1277/(228*193)"
   ]
  },
  {
   "cell_type": "code",
   "execution_count": 353,
   "metadata": {},
   "outputs": [
    {
     "data": {
      "text/plain": [
       "<248x227 sparse matrix of type '<class 'numpy.float64'>'\n",
       "\twith 1240 stored elements in Compressed Sparse Row format>"
      ]
     },
     "execution_count": 353,
     "metadata": {},
     "output_type": "execute_result"
    }
   ],
   "source": [
    "title_bow_train"
   ]
  },
  {
   "cell_type": "code",
   "execution_count": 354,
   "metadata": {},
   "outputs": [],
   "source": [
    "from scipy.sparse import hstack, vstack\n",
    "\n",
    "Xtrain_wtitle = hstack([Xtrain, title_bow_train])\n",
    "Xval_wtitle = hstack([Xval, title_bow_val])"
   ]
  },
  {
   "cell_type": "code",
   "execution_count": 355,
   "metadata": {},
   "outputs": [
    {
     "data": {
      "text/plain": [
       "((248, 229), (59, 229))"
      ]
     },
     "execution_count": 355,
     "metadata": {},
     "output_type": "execute_result"
    }
   ],
   "source": [
    "Xtrain_wtitle.shape, Xval_wtitle.shape"
   ]
  },
  {
   "cell_type": "code",
   "execution_count": 356,
   "metadata": {},
   "outputs": [
    {
     "data": {
      "text/plain": [
       "Counter({1: 52, 0: 196})"
      ]
     },
     "execution_count": 356,
     "metadata": {},
     "output_type": "execute_result"
    }
   ],
   "source": [
    "from collections import Counter\n",
    "\n",
    "Counter(ytrain)"
   ]
  },
  {
   "cell_type": "code",
   "execution_count": 357,
   "metadata": {},
   "outputs": [
    {
     "data": {
      "text/plain": [
       "RandomForestClassifier(class_weight='balanced', n_estimators=1000, n_jobs=6,\n",
       "                       random_state=0)"
      ]
     },
     "execution_count": 357,
     "metadata": {},
     "output_type": "execute_result"
    }
   ],
   "source": [
    "mdl = RandomForestClassifier(n_estimators=1000, random_state=0, class_weight=\"balanced\", n_jobs=6)\n",
    "mdl.fit(Xtrain_wtitle, ytrain)"
   ]
  },
  {
   "cell_type": "code",
   "execution_count": 358,
   "metadata": {},
   "outputs": [],
   "source": [
    "p = mdl.predict_proba(Xval_wtitle)[:, 1]"
   ]
  },
  {
   "cell_type": "code",
   "execution_count": 359,
   "metadata": {},
   "outputs": [],
   "source": [
    "from sklearn.metrics import roc_auc_score, average_precision_score"
   ]
  },
  {
   "cell_type": "code",
   "execution_count": 360,
   "metadata": {},
   "outputs": [
    {
     "data": {
      "text/plain": [
       "0.484250700280112"
      ]
     },
     "execution_count": 360,
     "metadata": {},
     "output_type": "execute_result"
    }
   ],
   "source": [
    "average_precision_score(yval, p)"
   ]
  },
  {
   "cell_type": "code",
   "execution_count": 361,
   "metadata": {},
   "outputs": [
    {
     "data": {
      "text/plain": [
       "0.8244897959183674"
      ]
     },
     "execution_count": 361,
     "metadata": {},
     "output_type": "execute_result"
    }
   ],
   "source": [
    "roc_auc_score(yval, p)"
   ]
  },
  {
   "cell_type": "markdown",
   "metadata": {},
   "source": [
    "# 5 Active learning"
   ]
  },
  {
   "cell_type": "markdown",
   "metadata": {},
   "source": [
    "70 exemplos que o modelo tenha dificuldade\n",
    "30 exemplos aleatoriamente"
   ]
  },
  {
   "cell_type": "code",
   "execution_count": 306,
   "metadata": {},
   "outputs": [
    {
     "data": {
      "text/plain": [
       "(1312, 5)"
      ]
     },
     "execution_count": 306,
     "metadata": {},
     "output_type": "execute_result"
    }
   ],
   "source": [
    "df_unlabeled = pd.read_csv(\"raw_data.csv\", index_col=0)\n",
    "df_unlabeled = df_unlabeled[df_unlabeled['y'].isnull()].dropna(how='all')\n",
    "df_unlabeled.shape"
   ]
  },
  {
   "cell_type": "code",
   "execution_count": 307,
   "metadata": {},
   "outputs": [
    {
     "data": {
      "text/html": [
       "<div>\n",
       "<style scoped>\n",
       "    .dataframe tbody tr th:only-of-type {\n",
       "        vertical-align: middle;\n",
       "    }\n",
       "\n",
       "    .dataframe tbody tr th {\n",
       "        vertical-align: top;\n",
       "    }\n",
       "\n",
       "    .dataframe thead th {\n",
       "        text-align: right;\n",
       "    }\n",
       "</style>\n",
       "<table border=\"1\" class=\"dataframe\">\n",
       "  <thead>\n",
       "    <tr style=\"text-align: right;\">\n",
       "      <th></th>\n",
       "      <th>title</th>\n",
       "      <th>upload_date</th>\n",
       "      <th>view_count</th>\n",
       "      <th>tempo_desde_pub</th>\n",
       "      <th>y</th>\n",
       "    </tr>\n",
       "  </thead>\n",
       "  <tbody>\n",
       "    <tr>\n",
       "      <th>307</th>\n",
       "      <td>Break Machine - Street Dance (1984)</td>\n",
       "      <td>2017-08-20</td>\n",
       "      <td>1922846</td>\n",
       "      <td>1500.0</td>\n",
       "      <td>NaN</td>\n",
       "    </tr>\n",
       "    <tr>\n",
       "      <th>308</th>\n",
       "      <td>Jose vs. Victor // BREAK FREE DAY 2021 // BBOY...</td>\n",
       "      <td>2021-07-19</td>\n",
       "      <td>13790</td>\n",
       "      <td>71.0</td>\n",
       "      <td>NaN</td>\n",
       "    </tr>\n",
       "    <tr>\n",
       "      <th>309</th>\n",
       "      <td>Green Hell - la colonie de vacances foireuse a...</td>\n",
       "      <td>2021-06-10</td>\n",
       "      <td>358905</td>\n",
       "      <td>110.0</td>\n",
       "      <td>NaN</td>\n",
       "    </tr>\n",
       "    <tr>\n",
       "      <th>310</th>\n",
       "      <td>How to Top Rock | Break Dancing</td>\n",
       "      <td>2013-05-16</td>\n",
       "      <td>157408</td>\n",
       "      <td>3057.0</td>\n",
       "      <td>NaN</td>\n",
       "    </tr>\n",
       "    <tr>\n",
       "      <th>311</th>\n",
       "      <td>Breakdancing &amp; More Wins VS. Fails | People Ar...</td>\n",
       "      <td>2021-06-27</td>\n",
       "      <td>60021</td>\n",
       "      <td>93.0</td>\n",
       "      <td>NaN</td>\n",
       "    </tr>\n",
       "  </tbody>\n",
       "</table>\n",
       "</div>"
      ],
      "text/plain": [
       "                                                 title upload_date  \\\n",
       "307                Break Machine - Street Dance (1984)  2017-08-20   \n",
       "308  Jose vs. Victor // BREAK FREE DAY 2021 // BBOY...  2021-07-19   \n",
       "309  Green Hell - la colonie de vacances foireuse a...  2021-06-10   \n",
       "310                    How to Top Rock | Break Dancing  2013-05-16   \n",
       "311  Breakdancing & More Wins VS. Fails | People Ar...  2021-06-27   \n",
       "\n",
       "     view_count  tempo_desde_pub   y  \n",
       "307     1922846           1500.0 NaN  \n",
       "308       13790             71.0 NaN  \n",
       "309      358905            110.0 NaN  \n",
       "310      157408           3057.0 NaN  \n",
       "311       60021             93.0 NaN  "
      ]
     },
     "execution_count": 307,
     "metadata": {},
     "output_type": "execute_result"
    }
   ],
   "source": [
    "df_unlabeled.head(5)"
   ]
  },
  {
   "cell_type": "code",
   "execution_count": 308,
   "metadata": {},
   "outputs": [],
   "source": [
    "df_limpo_u = pd.DataFrame(index=df_unlabeled.index)\n",
    "df_limpo_u['title'] = df_unlabeled['title']"
   ]
  },
  {
   "cell_type": "code",
   "execution_count": 309,
   "metadata": {},
   "outputs": [],
   "source": [
    "\n",
    "df_limpo_u['date'] = pd.to_datetime(df_unlabeled['upload_date'])"
   ]
  },
  {
   "cell_type": "code",
   "execution_count": 310,
   "metadata": {},
   "outputs": [],
   "source": [
    "df_limpo_u['views'] = df_unlabeled['view_count']"
   ]
  },
  {
   "cell_type": "code",
   "execution_count": 311,
   "metadata": {},
   "outputs": [
    {
     "data": {
      "text/plain": [
       "title                                                                                    date        views  \n",
       "Amazing Moments at BATTLE OF THE YEAR 2019 // .stance                                    2019-11-01  987863     3\n",
       "Mobb Deep - Burn Remix | BBoy Breakdance Music 4 Life 2015                               2015-04-26  2360996    3\n",
       "【 BREAK DANCE 】Power move Collection ( Bboy SNACK , ARIYA , GOODmen , FreeasyClothing )  2018-05-30  1968848    3\n",
       "【 BreakDance 】Easy Level Beginner skills                                                 2021-03-08  421513     3\n",
       "Red Bull BC One 2015 The Soundtrack | Bboy Breakdance Music                              2015-01-01  2969563    3\n",
       "                                                                                                               ..\n",
       "Break Machine - Street Dance (1984)                                                      2017-08-20  1922846    1\n",
       "                                                                                                     1922815    1\n",
       "Break Machine - Break Dance Party - Original Version 1984                                2016-01-06  83516      1\n",
       "Break Machine - Break Dance Party                                                        2019-08-27  22404      1\n",
       "😍😍😍#bboy#shorts                                                                          2021-10-02  0          1\n",
       "Length: 1261, dtype: int64"
      ]
     },
     "execution_count": 311,
     "metadata": {},
     "output_type": "execute_result"
    }
   ],
   "source": [
    "df_limpo_u.value_counts()"
   ]
  },
  {
   "cell_type": "code",
   "execution_count": 312,
   "metadata": {},
   "outputs": [],
   "source": [
    "features_u = pd.DataFrame(index=df_limpo_u.index)"
   ]
  },
  {
   "cell_type": "code",
   "execution_count": 313,
   "metadata": {},
   "outputs": [],
   "source": [
    "features_u['tempo_desde_pub'] = (pd.to_datetime(\"2019-12-03\") - pd.to_datetime(df_limpo_u['date'])) / np.timedelta64(1, 'D')\n",
    "features_u['views'] = df_limpo_u['views']\n",
    "features_u['views_por_dia'] = features_u['views'] / features_u['tempo_desde_pub']\n",
    "features_u = features_u.drop(['tempo_desde_pub'], axis=1)"
   ]
  },
  {
   "cell_type": "code",
   "execution_count": 314,
   "metadata": {},
   "outputs": [
    {
     "data": {
      "text/plain": [
       "Int64Index([908, 1416], dtype='int64')"
      ]
     },
     "execution_count": 314,
     "metadata": {},
     "output_type": "execute_result"
    }
   ],
   "source": [
    "r = features_u.index[np.isinf(features_u).any(1)]\n",
    "r"
   ]
  },
  {
   "cell_type": "code",
   "execution_count": 315,
   "metadata": {},
   "outputs": [],
   "source": [
    "df_limpo_u = df_limpo_u[~df_limpo_u.index.isin(r)]"
   ]
  },
  {
   "cell_type": "code",
   "execution_count": 316,
   "metadata": {},
   "outputs": [],
   "source": [
    "df_unlabeled = df_unlabeled[~df_unlabeled.index.isin(r)]"
   ]
  },
  {
   "cell_type": "code",
   "execution_count": 317,
   "metadata": {},
   "outputs": [
    {
     "data": {
      "text/plain": [
       "(1310, 2)"
      ]
     },
     "execution_count": 317,
     "metadata": {},
     "output_type": "execute_result"
    }
   ],
   "source": [
    "features_u = features_u[~features_u.index.isin(r)]\n",
    "features_u.shape"
   ]
  },
  {
   "cell_type": "code",
   "execution_count": 318,
   "metadata": {},
   "outputs": [],
   "source": [
    "from sklearn.feature_extraction.text import TfidfVectorizer\n",
    "\n",
    "title_u = df_limpo_u['title']\n",
    "title_bow_u = title_vec.transform(title_u)\n"
   ]
  },
  {
   "cell_type": "code",
   "execution_count": 319,
   "metadata": {},
   "outputs": [
    {
     "data": {
      "text/plain": [
       "<1310x227 sparse matrix of type '<class 'numpy.float64'>'\n",
       "\twith 5622 stored elements in Compressed Sparse Row format>"
      ]
     },
     "execution_count": 319,
     "metadata": {},
     "output_type": "execute_result"
    }
   ],
   "source": [
    "title_bow_u"
   ]
  },
  {
   "cell_type": "code",
   "execution_count": 320,
   "metadata": {},
   "outputs": [],
   "source": [
    "Xu_wtitle = hstack([features_u, title_bow_u])"
   ]
  },
  {
   "cell_type": "code",
   "execution_count": 321,
   "metadata": {},
   "outputs": [],
   "source": [
    "pu = mdl.predict_proba(Xu_wtitle)[:, 1]"
   ]
  },
  {
   "cell_type": "code",
   "execution_count": 322,
   "metadata": {},
   "outputs": [],
   "source": [
    "df_unlabeled['p'] = pu"
   ]
  },
  {
   "cell_type": "code",
   "execution_count": 323,
   "metadata": {},
   "outputs": [
    {
     "data": {
      "text/html": [
       "<div>\n",
       "<style scoped>\n",
       "    .dataframe tbody tr th:only-of-type {\n",
       "        vertical-align: middle;\n",
       "    }\n",
       "\n",
       "    .dataframe tbody tr th {\n",
       "        vertical-align: top;\n",
       "    }\n",
       "\n",
       "    .dataframe thead th {\n",
       "        text-align: right;\n",
       "    }\n",
       "</style>\n",
       "<table border=\"1\" class=\"dataframe\">\n",
       "  <thead>\n",
       "    <tr style=\"text-align: right;\">\n",
       "      <th></th>\n",
       "      <th>title</th>\n",
       "      <th>upload_date</th>\n",
       "      <th>view_count</th>\n",
       "      <th>tempo_desde_pub</th>\n",
       "      <th>y</th>\n",
       "      <th>p</th>\n",
       "    </tr>\n",
       "  </thead>\n",
       "  <tbody>\n",
       "    <tr>\n",
       "      <th>307</th>\n",
       "      <td>Break Machine - Street Dance (1984)</td>\n",
       "      <td>2017-08-20</td>\n",
       "      <td>1922846</td>\n",
       "      <td>1500.0</td>\n",
       "      <td>NaN</td>\n",
       "      <td>0.012</td>\n",
       "    </tr>\n",
       "  </tbody>\n",
       "</table>\n",
       "</div>"
      ],
      "text/plain": [
       "                                   title upload_date  view_count  \\\n",
       "307  Break Machine - Street Dance (1984)  2017-08-20     1922846   \n",
       "\n",
       "     tempo_desde_pub   y      p  \n",
       "307           1500.0 NaN  0.012  "
      ]
     },
     "execution_count": 323,
     "metadata": {},
     "output_type": "execute_result"
    }
   ],
   "source": [
    "df_unlabeled.head(1)"
   ]
  },
  {
   "cell_type": "code",
   "execution_count": 324,
   "metadata": {},
   "outputs": [
    {
     "data": {
      "text/plain": [
       "182"
      ]
     },
     "execution_count": 324,
     "metadata": {},
     "output_type": "execute_result"
    }
   ],
   "source": [
    "mask_u = (df_unlabeled['p'] >= 0.40) & (df_unlabeled['p'] <= 0.6)\n",
    "mask_u.sum()"
   ]
  },
  {
   "cell_type": "code",
   "execution_count": 325,
   "metadata": {},
   "outputs": [
    {
     "data": {
      "text/plain": [
       "307     False\n",
       "308     False\n",
       "309     False\n",
       "310     False\n",
       "311     False\n",
       "        ...  \n",
       "1615    False\n",
       "1616    False\n",
       "1617     True\n",
       "1618    False\n",
       "1619    False\n",
       "Name: p, Length: 1310, dtype: bool"
      ]
     },
     "execution_count": 325,
     "metadata": {},
     "output_type": "execute_result"
    }
   ],
   "source": [
    "mask_u"
   ]
  },
  {
   "cell_type": "code",
   "execution_count": 326,
   "metadata": {},
   "outputs": [
    {
     "data": {
      "text/html": [
       "<div>\n",
       "<style scoped>\n",
       "    .dataframe tbody tr th:only-of-type {\n",
       "        vertical-align: middle;\n",
       "    }\n",
       "\n",
       "    .dataframe tbody tr th {\n",
       "        vertical-align: top;\n",
       "    }\n",
       "\n",
       "    .dataframe thead th {\n",
       "        text-align: right;\n",
       "    }\n",
       "</style>\n",
       "<table border=\"1\" class=\"dataframe\">\n",
       "  <thead>\n",
       "    <tr style=\"text-align: right;\">\n",
       "      <th></th>\n",
       "      <th>title</th>\n",
       "      <th>upload_date</th>\n",
       "      <th>view_count</th>\n",
       "      <th>tempo_desde_pub</th>\n",
       "      <th>y</th>\n",
       "      <th>p</th>\n",
       "    </tr>\n",
       "  </thead>\n",
       "  <tbody>\n",
       "    <tr>\n",
       "      <th>318</th>\n",
       "      <td>Mindset /w Killa Keim (From DownTown) | BBOY.O...</td>\n",
       "      <td>2021-03-11</td>\n",
       "      <td>4728</td>\n",
       "      <td>201.0</td>\n",
       "      <td>NaN</td>\n",
       "      <td>0.463</td>\n",
       "    </tr>\n",
       "    <tr>\n",
       "      <th>319</th>\n",
       "      <td>BBOY ZOOPREME | MUSIC IN HIS SOUL 🎶</td>\n",
       "      <td>2021-09-22</td>\n",
       "      <td>1356</td>\n",
       "      <td>6.0</td>\n",
       "      <td>NaN</td>\n",
       "      <td>0.498</td>\n",
       "    </tr>\n",
       "    <tr>\n",
       "      <th>323</th>\n",
       "      <td>BBOY ZOOTY ZOOT | AMAZING FLOW 🌊</td>\n",
       "      <td>2021-09-14</td>\n",
       "      <td>2902</td>\n",
       "      <td>14.0</td>\n",
       "      <td>NaN</td>\n",
       "      <td>0.495</td>\n",
       "    </tr>\n",
       "    <tr>\n",
       "      <th>326</th>\n",
       "      <td>Bboy music 2021- run it</td>\n",
       "      <td>2021-10-02</td>\n",
       "      <td>43</td>\n",
       "      <td>-4.0</td>\n",
       "      <td>NaN</td>\n",
       "      <td>0.409</td>\n",
       "    </tr>\n",
       "    <tr>\n",
       "      <th>327</th>\n",
       "      <td>Red Bull BC One B-Boy Cypher Japan 2021 | LIVE...</td>\n",
       "      <td>2021-09-26</td>\n",
       "      <td>50041</td>\n",
       "      <td>2.0</td>\n",
       "      <td>NaN</td>\n",
       "      <td>0.497</td>\n",
       "    </tr>\n",
       "    <tr>\n",
       "      <th>...</th>\n",
       "      <td>...</td>\n",
       "      <td>...</td>\n",
       "      <td>...</td>\n",
       "      <td>...</td>\n",
       "      <td>...</td>\n",
       "      <td>...</td>\n",
       "    </tr>\n",
       "    <tr>\n",
       "      <th>1601</th>\n",
       "      <td>BBOY POCKET NEXT LEVEL 2019</td>\n",
       "      <td>2019-02-03</td>\n",
       "      <td>309515</td>\n",
       "      <td>968.0</td>\n",
       "      <td>NaN</td>\n",
       "      <td>0.444</td>\n",
       "    </tr>\n",
       "    <tr>\n",
       "      <th>1603</th>\n",
       "      <td>BC One Squad vs Keep Your Dreams [top 8] // st...</td>\n",
       "      <td>2021-09-28</td>\n",
       "      <td>6471</td>\n",
       "      <td>0.0</td>\n",
       "      <td>NaN</td>\n",
       "      <td>0.471</td>\n",
       "    </tr>\n",
       "    <tr>\n",
       "      <th>1606</th>\n",
       "      <td>BBOY ROXRITE Recap @SECRET BATTLE Red Bull BC ...</td>\n",
       "      <td>2021-03-22</td>\n",
       "      <td>125</td>\n",
       "      <td>190.0</td>\n",
       "      <td>NaN</td>\n",
       "      <td>0.473</td>\n",
       "    </tr>\n",
       "    <tr>\n",
       "      <th>1609</th>\n",
       "      <td>BBOY LILOU &amp; BBOY MENNO Recap | Red Bull Dance...</td>\n",
       "      <td>2021-06-25</td>\n",
       "      <td>881</td>\n",
       "      <td>95.0</td>\n",
       "      <td>NaN</td>\n",
       "      <td>0.549</td>\n",
       "    </tr>\n",
       "    <tr>\n",
       "      <th>1617</th>\n",
       "      <td>Red bull Cypher São Paulo 2021 FINAL Bboy Luan...</td>\n",
       "      <td>2021-10-02</td>\n",
       "      <td>631</td>\n",
       "      <td>-4.0</td>\n",
       "      <td>NaN</td>\n",
       "      <td>0.484</td>\n",
       "    </tr>\n",
       "  </tbody>\n",
       "</table>\n",
       "<p>182 rows × 6 columns</p>\n",
       "</div>"
      ],
      "text/plain": [
       "                                                  title upload_date  \\\n",
       "318   Mindset /w Killa Keim (From DownTown) | BBOY.O...  2021-03-11   \n",
       "319                 BBOY ZOOPREME | MUSIC IN HIS SOUL 🎶  2021-09-22   \n",
       "323                    BBOY ZOOTY ZOOT | AMAZING FLOW 🌊  2021-09-14   \n",
       "326                             Bboy music 2021- run it  2021-10-02   \n",
       "327   Red Bull BC One B-Boy Cypher Japan 2021 | LIVE...  2021-09-26   \n",
       "...                                                 ...         ...   \n",
       "1601                        BBOY POCKET NEXT LEVEL 2019  2019-02-03   \n",
       "1603  BC One Squad vs Keep Your Dreams [top 8] // st...  2021-09-28   \n",
       "1606  BBOY ROXRITE Recap @SECRET BATTLE Red Bull BC ...  2021-03-22   \n",
       "1609  BBOY LILOU & BBOY MENNO Recap | Red Bull Dance...  2021-06-25   \n",
       "1617  Red bull Cypher São Paulo 2021 FINAL Bboy Luan...  2021-10-02   \n",
       "\n",
       "      view_count  tempo_desde_pub   y      p  \n",
       "318         4728            201.0 NaN  0.463  \n",
       "319         1356              6.0 NaN  0.498  \n",
       "323         2902             14.0 NaN  0.495  \n",
       "326           43             -4.0 NaN  0.409  \n",
       "327        50041              2.0 NaN  0.497  \n",
       "...          ...              ...  ..    ...  \n",
       "1601      309515            968.0 NaN  0.444  \n",
       "1603        6471              0.0 NaN  0.471  \n",
       "1606         125            190.0 NaN  0.473  \n",
       "1609         881             95.0 NaN  0.549  \n",
       "1617         631             -4.0 NaN  0.484  \n",
       "\n",
       "[182 rows x 6 columns]"
      ]
     },
     "execution_count": 326,
     "metadata": {},
     "output_type": "execute_result"
    }
   ],
   "source": [
    "df_unlabeled[mask_u]#.sort_values(\"p\")"
   ]
  },
  {
   "cell_type": "code",
   "execution_count": 327,
   "metadata": {},
   "outputs": [],
   "source": [
    "dificeis = df_unlabeled[mask_u]"
   ]
  },
  {
   "cell_type": "code",
   "execution_count": 328,
   "metadata": {},
   "outputs": [],
   "source": [
    "aleatorios = df_unlabeled[~mask_u].sample(60, random_state=0)"
   ]
  },
  {
   "cell_type": "code",
   "execution_count": 332,
   "metadata": {},
   "outputs": [
    {
     "data": {
      "text/plain": [
       "(242, 6)"
      ]
     },
     "execution_count": 332,
     "metadata": {},
     "output_type": "execute_result"
    }
   ],
   "source": [
    "c = pd.concat([dificeis, aleatorios])\n",
    "c.to_csv(\"active_label1.csv\")\n",
    "c.shape"
   ]
  },
  {
   "cell_type": "code",
   "execution_count": 335,
   "metadata": {},
   "outputs": [
    {
     "data": {
      "text/html": [
       "<div>\n",
       "<style scoped>\n",
       "    .dataframe tbody tr th:only-of-type {\n",
       "        vertical-align: middle;\n",
       "    }\n",
       "\n",
       "    .dataframe tbody tr th {\n",
       "        vertical-align: top;\n",
       "    }\n",
       "\n",
       "    .dataframe thead th {\n",
       "        text-align: right;\n",
       "    }\n",
       "</style>\n",
       "<table border=\"1\" class=\"dataframe\">\n",
       "  <thead>\n",
       "    <tr style=\"text-align: right;\">\n",
       "      <th></th>\n",
       "      <th>title</th>\n",
       "      <th>upload_date</th>\n",
       "      <th>view_count</th>\n",
       "      <th>tempo_desde_pub</th>\n",
       "      <th>y</th>\n",
       "      <th>p</th>\n",
       "    </tr>\n",
       "  </thead>\n",
       "  <tbody>\n",
       "  </tbody>\n",
       "</table>\n",
       "</div>"
      ],
      "text/plain": [
       "Empty DataFrame\n",
       "Columns: [title, upload_date, view_count, tempo_desde_pub, y, p]\n",
       "Index: []"
      ]
     },
     "execution_count": 335,
     "metadata": {},
     "output_type": "execute_result"
    }
   ],
   "source": [
    "c = c[c['y'].notnull()]\n",
    "c"
   ]
  },
  {
   "cell_type": "code",
   "execution_count": 331,
   "metadata": {},
   "outputs": [
    {
     "data": {
      "text/html": [
       "<div>\n",
       "<style scoped>\n",
       "    .dataframe tbody tr th:only-of-type {\n",
       "        vertical-align: middle;\n",
       "    }\n",
       "\n",
       "    .dataframe tbody tr th {\n",
       "        vertical-align: top;\n",
       "    }\n",
       "\n",
       "    .dataframe thead th {\n",
       "        text-align: right;\n",
       "    }\n",
       "</style>\n",
       "<table border=\"1\" class=\"dataframe\">\n",
       "  <thead>\n",
       "    <tr style=\"text-align: right;\">\n",
       "      <th></th>\n",
       "      <th>title</th>\n",
       "      <th>upload_date</th>\n",
       "      <th>view_count</th>\n",
       "      <th>tempo_desde_pub</th>\n",
       "      <th>y</th>\n",
       "      <th>p</th>\n",
       "    </tr>\n",
       "  </thead>\n",
       "  <tbody>\n",
       "    <tr>\n",
       "      <th>1330</th>\n",
       "      <td>History of Breakdancing</td>\n",
       "      <td>2015-12-16</td>\n",
       "      <td>1358</td>\n",
       "      <td>2113.0</td>\n",
       "      <td>NaN</td>\n",
       "      <td>0.015</td>\n",
       "    </tr>\n",
       "    <tr>\n",
       "      <th>810</th>\n",
       "      <td>nyoni &amp; bota performing break dance #shorts #y...</td>\n",
       "      <td>2021-10-02</td>\n",
       "      <td>2</td>\n",
       "      <td>-4.0</td>\n",
       "      <td>NaN</td>\n",
       "      <td>0.013</td>\n",
       "    </tr>\n",
       "    <tr>\n",
       "      <th>1057</th>\n",
       "      <td>Lussy Sky vs Lil G | 3rd Place | Bboy | 2019 W...</td>\n",
       "      <td>2019-06-23</td>\n",
       "      <td>41059</td>\n",
       "      <td>828.0</td>\n",
       "      <td>NaN</td>\n",
       "      <td>0.227</td>\n",
       "    </tr>\n",
       "    <tr>\n",
       "      <th>1411</th>\n",
       "      <td>BBOY NOODLE | Bomb Jam 2021</td>\n",
       "      <td>2021-05-17</td>\n",
       "      <td>738</td>\n",
       "      <td>134.0</td>\n",
       "      <td>NaN</td>\n",
       "      <td>0.721</td>\n",
       "    </tr>\n",
       "    <tr>\n",
       "      <th>820</th>\n",
       "      <td>TOP 10 BBOY Sets VOL6 (BreakDance Compilation ...</td>\n",
       "      <td>2021-01-22</td>\n",
       "      <td>27583</td>\n",
       "      <td>249.0</td>\n",
       "      <td>NaN</td>\n",
       "      <td>0.231</td>\n",
       "    </tr>\n",
       "  </tbody>\n",
       "</table>\n",
       "</div>"
      ],
      "text/plain": [
       "                                                  title upload_date  \\\n",
       "1330                            History of Breakdancing  2015-12-16   \n",
       "810   nyoni & bota performing break dance #shorts #y...  2021-10-02   \n",
       "1057  Lussy Sky vs Lil G | 3rd Place | Bboy | 2019 W...  2019-06-23   \n",
       "1411                        BBOY NOODLE | Bomb Jam 2021  2021-05-17   \n",
       "820   TOP 10 BBOY Sets VOL6 (BreakDance Compilation ...  2021-01-22   \n",
       "\n",
       "      view_count  tempo_desde_pub   y      p  \n",
       "1330        1358           2113.0 NaN  0.015  \n",
       "810            2             -4.0 NaN  0.013  \n",
       "1057       41059            828.0 NaN  0.227  \n",
       "1411         738            134.0 NaN  0.721  \n",
       "820        27583            249.0 NaN  0.231  "
      ]
     },
     "execution_count": 331,
     "metadata": {},
     "output_type": "execute_result"
    }
   ],
   "source": [
    "aleatorios.head()"
   ]
  },
  {
   "cell_type": "code",
   "execution_count": null,
   "metadata": {},
   "outputs": [],
   "source": []
  }
 ],
 "metadata": {
  "kernelspec": {
   "display_name": "Python 3 (ipykernel)",
   "language": "python",
   "name": "python3"
  },
  "language_info": {
   "codemirror_mode": {
    "name": "ipython",
    "version": 3
   },
   "file_extension": ".py",
   "mimetype": "text/x-python",
   "name": "python",
   "nbconvert_exporter": "python",
   "pygments_lexer": "ipython3",
   "version": "3.8.5"
  }
 },
 "nbformat": 4,
 "nbformat_minor": 4
}
